{
 "cells": [
  {
   "cell_type": "markdown",
   "metadata": {},
   "source": [
    "# $x \\times y = k $ model\n",
    "\n",
    "对于交易对 X 和 Y , 假设 $x$ 为 token X 的供应量，$y$ 为 token Y 的供应量，设定 $k = x \\times y$, 其中 $k$ 为常数。\n",
    "\n",
    "当交易者买入 $\\Delta x$ 的 token X，此时:\n",
    "\n",
    " $$k = (x - \\Delta x) \\times (y + \\Delta y)$$\n",
    "\n",
    " 考虑需支付手续费给做市商，设手续费百分比为 $\\rho$，$ \\gamma = 1 - \\rho $ 于是：\n",
    "\n",
    " $$k = (x - \\Delta x) \\times (y + \\gamma \\times \\Delta y)$$\n",
    "\n",
    " $$\\gamma \\times \\Delta y = \\frac{xy}{x - \\Delta x} - y = \\frac{xy - y(x - \\Delta x)}{x - \\Delta x}$$\n",
    " \n",
    " $$ \\Delta y  = \\frac{1}{\\gamma} \\times \\frac{y\\Delta x}{x - \\Delta x}$$\n",
    "\n",
    " 当交易者卖出 $\\Delta x$ 的 token X，此时:\n",
    "\n",
    " $$k = (x + \\gamma \\times \\Delta x) \\times (y -  \\Delta y)$$\n",
    "\n",
    " $$\\Delta y = y - \\frac{xy}{x + \\gamma \\times \\Delta x} = \\frac{y(x + \\gamma \\times \\Delta x) - xy}{x + \\gamma \\times \\Delta x}$$\n",
    " \n",
    " $$\\Delta y = \\frac{y \\times \\gamma \\Delta x}{x + \\gamma \\Delta x}$$\n",
    " \n",
    " 假设流动池中包含 2 个 ETH 和 8000 个 DAI，同时每笔交易支付流动性手续费为 0.03%，当交易者卖出 1 个 ETH 置换为 DAI，此时：\n",
    "\n",
    "$$\\Delta y = \\frac{8000 \\times 0.997 \\times \\Delta x}{2 + 0.997 \\times \\Delta x} \\approx 2661.328$$\n",
    "\n",
    "根据 $x \\times y = k $ 公式，可置换 $2661.328$ 个 DAI。\n",
    "\n"
   ]
  },
  {
   "cell_type": "code",
   "execution_count": 53,
   "metadata": {},
   "outputs": [
    {
     "data": {
      "image/png": "[encoded data removed]",
      "text/plain": [
       "<Figure size 432x288 with 1 Axes>"
      ]
     },
     "metadata": {
      "needs_background": "light"
     },
     "output_type": "display_data"
    }
   ],
   "source": [
    "import numpy as np \n",
    "from matplotlib import pyplot\n",
    "k = 8000 * 2\n",
    "x = np.linspace(1, 3, num=50)\n",
    "y = k / x\n",
    "pyplot.title(\"xy = k\") \n",
    "pyplot.xlabel(\"ETH\") \n",
    "pyplot.ylabel(\"DAI\") \n",
    "pyplot.plot(x, y)\n",
    "pyplot.show()"
   ]
  }
 ],
 "metadata": {
  "interpreter": {
   "hash": "1130aa6eb805c9569cbc49b226b2b2bb29df91cd03d048bdddfed6a115e11e27"
  },
  "kernelspec": {
   "display_name": "Python 3.9.10 ('venv': venv)",
   "language": "python",
   "name": "python3"
  },
  "language_info": {
   "codemirror_mode": {
    "name": "ipython",
    "version": 3
   },
   "file_extension": ".py",
   "mimetype": "text/x-python",
   "name": "python",
   "nbconvert_exporter": "python",
   "pygments_lexer": "ipython3",
   "version": "3.9.10"
  },
  "orig_nbformat": 4
 },
 "nbformat": 4,
 "nbformat_minor": 2
}
